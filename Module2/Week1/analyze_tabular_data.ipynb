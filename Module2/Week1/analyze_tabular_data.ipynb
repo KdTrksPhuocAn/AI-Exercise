{
  "nbformat": 4,
  "nbformat_minor": 0,
  "metadata": {
    "colab": {
      "provenance": [],
      "gpuType": "T4"
    },
    "kernelspec": {
      "name": "python3",
      "display_name": "Python 3"
    },
    "language_info": {
      "name": "python"
    },
    "accelerator": "GPU"
  },
  "cells": [
    {
      "cell_type": "markdown",
      "source": [
        "**Phân tích dữ liệu dạng bảng**"
      ],
      "metadata": {
        "id": "2dbAgnIe06GO"
      }
    },
    {
      "cell_type": "code",
      "source": [
        "!gdown 1iA0WmVfW88HyJvTBSQDI5vesf-pgKabq\n",
        "import pandas as pd\n",
        "df = pd.read_csv('/content/advertising.csv')\n",
        "\n",
        "data = df.to_numpy ()"
      ],
      "metadata": {
        "colab": {
          "base_uri": "https://localhost:8080/"
        },
        "id": "lHXgoPeBuP1h",
        "outputId": "c0377c13-a3b0-4927-c058-2bd3838ca44f"
      },
      "execution_count": null,
      "outputs": [
        {
          "output_type": "stream",
          "name": "stdout",
          "text": [
            "Downloading...\n",
            "From: https://drive.google.com/uc?id=1iA0WmVfW88HyJvTBSQDI5vesf-pgKabq\n",
            "To: /content/advertising.csv\n",
            "\r  0% 0.00/4.06k [00:00<?, ?B/s]\r100% 4.06k/4.06k [00:00<00:00, 14.8MB/s]\n"
          ]
        }
      ]
    },
    {
      "cell_type": "markdown",
      "source": [
        "**Lấy giá trị lớn nhất và chỉ mục tương ứng của nó trên cột Sales:**"
      ],
      "metadata": {
        "id": "vBL0E-Ti1F37"
      }
    },
    {
      "cell_type": "code",
      "source": [
        "import numpy as np\n",
        "\n",
        "sales_column = data[:, 3]\n",
        "max_value = np.max(sales_column)\n",
        "max_index = np.argmax(sales_column)\n",
        "\n",
        "print(f\"Max: {max_value} - Index: {max_index}\")\n"
      ],
      "metadata": {
        "colab": {
          "base_uri": "https://localhost:8080/"
        },
        "id": "5k1KdKhyuAHE",
        "outputId": "d5c6da42-dacc-4177-e87b-e9b090e4fae3"
      },
      "execution_count": null,
      "outputs": [
        {
          "output_type": "stream",
          "name": "stdout",
          "text": [
            "Max: 27.0 - Index: 175\n"
          ]
        }
      ]
    },
    {
      "cell_type": "markdown",
      "source": [
        "**Giá trị trung bình của cột TV:**"
      ],
      "metadata": {
        "id": "XVpVtbp5xrNv"
      }
    },
    {
      "cell_type": "code",
      "source": [
        "tv_column = data[:, 0]\n",
        "mean_tv = np.mean(tv_column)\n",
        "\n",
        "print(f\"Mean TV: {mean_tv}\")"
      ],
      "metadata": {
        "colab": {
          "base_uri": "https://localhost:8080/"
        },
        "id": "WNT-TV15wmMY",
        "outputId": "4a633ddf-95fe-4611-cb4b-9f17833fbe5c"
      },
      "execution_count": null,
      "outputs": [
        {
          "output_type": "stream",
          "name": "stdout",
          "text": [
            "Mean TV: 147.0425\n"
          ]
        }
      ]
    },
    {
      "cell_type": "markdown",
      "source": [
        "**Số lượng bản ghi có giá trị tại cột Sales lớn hơn hoặc bằng 20**"
      ],
      "metadata": {
        "id": "R_zVHlHF1oUZ"
      }
    },
    {
      "cell_type": "code",
      "source": [
        "sales_column = data[:, 3]\n",
        "count_sales_ge_20 = np.sum(sales_column >= 20)\n",
        "\n",
        "print(f\"so luong >= 20: {count_sales_ge_20}\")\n"
      ],
      "metadata": {
        "colab": {
          "base_uri": "https://localhost:8080/"
        },
        "id": "U6JECQaX1k9L",
        "outputId": "37cfc139-8272-4556-f71f-adf9950c2943"
      },
      "execution_count": null,
      "outputs": [
        {
          "output_type": "stream",
          "name": "stdout",
          "text": [
            "so luong >= 20: 40\n"
          ]
        }
      ]
    },
    {
      "cell_type": "markdown",
      "source": [
        "**Tính giá trị trung bình của cột Radio thoả mãn điều kiện giá trị tương ứng trên cột Sales lớn hơn hoặc bằng 15**"
      ],
      "metadata": {
        "id": "5uU6cHBS19-P"
      }
    },
    {
      "cell_type": "code",
      "source": [
        "sales_column = data[:, 3]\n",
        "radio_column = data[:, 1]\n",
        "mean_radio_sales_ge_15 = np.mean(radio_column[sales_column >= 15])\n",
        "\n",
        "print(f\"Mean Radio where Sales >= 15: {mean_radio_sales_ge_15}\")\n"
      ],
      "metadata": {
        "colab": {
          "base_uri": "https://localhost:8080/"
        },
        "id": "vR6yF40F12F1",
        "outputId": "96236c6b-cf3e-409b-e84d-3e253051b53c"
      },
      "execution_count": null,
      "outputs": [
        {
          "output_type": "stream",
          "name": "stdout",
          "text": [
            "Mean Radio where Sales >= 15: 26.22293577981651\n"
          ]
        }
      ]
    },
    {
      "cell_type": "markdown",
      "source": [
        "**Tính tổng các hàng của cột Sales với điều kiện giá trị Newspaper lớn hơn giá trị trung bình của cột Newspaper**"
      ],
      "metadata": {
        "id": "tvalVwa72IB8"
      }
    },
    {
      "cell_type": "code",
      "source": [
        "newspaper_column = data[:, 2]\n",
        "sales_column = data[:, 3]\n",
        "mean_newspaper = np.mean(newspaper_column)\n",
        "sum_sales_newspaper_gt_mean = np.sum(sales_column[newspaper_column > mean_newspaper])\n",
        "\n",
        "print(f\"Sum of Sales where Newspaper > mean: {sum_sales_newspaper_gt_mean}\")\n"
      ],
      "metadata": {
        "colab": {
          "base_uri": "https://localhost:8080/"
        },
        "id": "0c9e3jMD2ITa",
        "outputId": "411131dd-6ab6-48b6-f69f-25fc065f884c"
      },
      "execution_count": null,
      "outputs": [
        {
          "output_type": "stream",
          "name": "stdout",
          "text": [
            "Sum of Sales where Newspaper > mean: 1405.1\n"
          ]
        }
      ]
    },
    {
      "cell_type": "code",
      "source": [
        "sales_column = data[:, 3]\n",
        "\n",
        "mean_sales = np.mean(sales_column)\n",
        "\n",
        "scores_20 = np.where(sales_column > mean_sales, 'Good', np.where(sales_column < mean_sales, 'Bad', 'Average'))\n",
        "\n",
        "print(f\"scores[7:10] for question 20: {scores_20[7:10]}\")\n",
        "\n"
      ],
      "metadata": {
        "colab": {
          "base_uri": "https://localhost:8080/"
        },
        "id": "w1_0B7BO2hg_",
        "outputId": "e1552359-a157-4f77-b3bb-c2107b44370c"
      },
      "execution_count": null,
      "outputs": [
        {
          "output_type": "stream",
          "name": "stdout",
          "text": [
            "scores[7:10] for question 20: ['Bad' 'Bad' 'Good']\n"
          ]
        }
      ]
    },
    {
      "cell_type": "code",
      "source": [
        "closest_to_mean_sales = sales_column[np.abs(sales_column - mean_sales).argmin()]\n",
        "\n",
        "scores_21 = np.where(sales_column > closest_to_mean_sales, 'Good', np.where(sales_column < closest_to_mean_sales, 'Bad', 'Average'))\n",
        "\n",
        "print(f\"scores[7:10] for question 21: {scores_21[7:10]}\")\n"
      ],
      "metadata": {
        "colab": {
          "base_uri": "https://localhost:8080/"
        },
        "id": "3Wk4uMUy2hMX",
        "outputId": "be67735d-c874-44b9-f1c4-5b1b2ad7de51"
      },
      "execution_count": null,
      "outputs": [
        {
          "output_type": "stream",
          "name": "stdout",
          "text": [
            "scores[7:10] for question 21: ['Bad' 'Bad' 'Good']\n"
          ]
        }
      ]
    }
  ]
}