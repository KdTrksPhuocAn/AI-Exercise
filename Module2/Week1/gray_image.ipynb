{
  "nbformat": 4,
  "nbformat_minor": 0,
  "metadata": {
    "colab": {
      "provenance": [],
      "gpuType": "T4"
    },
    "kernelspec": {
      "name": "python3",
      "display_name": "Python 3"
    },
    "language_info": {
      "name": "python"
    },
    "accelerator": "GPU"
  },
  "cells": [
    {
      "cell_type": "markdown",
      "source": [
        "**Phương pháp Lightness:**\n",
        "\n",
        "\n",
        "\n"
      ],
      "metadata": {
        "id": "7BPimvY8xJS4"
      }
    },
    {
      "cell_type": "code",
      "source": [
        "!gdown 1i9dqan21DjQoG5Q_VEvm0LrVwAlXD0vB\n",
        "\n",
        "import matplotlib.image as mpimg\n",
        "import numpy as np\n",
        "\n",
        "img = mpimg.imread('/content/dog.jpeg')\n",
        "\n",
        "gray_img_01 = (np.max(img, axis=2) + np.min(img, axis=2)) / 2\n",
        "\n",
        "print(\"Lightness:\", gray_img_01[0, 0])"
      ],
      "metadata": {
        "colab": {
          "base_uri": "https://localhost:8080/"
        },
        "id": "lHXgoPeBuP1h",
        "outputId": "87c7fa3b-e3ea-4ad3-8052-c8be47be2384"
      },
      "execution_count": null,
      "outputs": [
        {
          "output_type": "stream",
          "name": "stdout",
          "text": [
            "Downloading...\n",
            "From: https://drive.google.com/uc?id=1i9dqan21DjQoG5Q_VEvm0LrVwAlXD0vB\n",
            "To: /content/dog.jpeg\n",
            "\r  0% 0.00/33.7k [00:00<?, ?B/s]\r100% 33.7k/33.7k [00:00<00:00, 78.2MB/s]\n",
            "Lightness: 102.5\n"
          ]
        }
      ]
    },
    {
      "cell_type": "markdown",
      "source": [
        "**Phương pháp Average:**"
      ],
      "metadata": {
        "id": "WLUBhYTnxHwY"
      }
    },
    {
      "cell_type": "code",
      "source": [
        "import matplotlib.image as mpimg\n",
        "import numpy as np\n",
        "\n",
        "img = mpimg.imread('/content/dog.jpeg')\n",
        "\n",
        "gray_img_02 = np.mean(img, axis=2)\n",
        "\n",
        "print(\"Average:\", gray_img_02[0, 0])"
      ],
      "metadata": {
        "colab": {
          "base_uri": "https://localhost:8080/"
        },
        "id": "5k1KdKhyuAHE",
        "outputId": "9e6a3869-1f11-42dd-d934-fc2244b0e511"
      },
      "execution_count": null,
      "outputs": [
        {
          "output_type": "stream",
          "name": "stdout",
          "text": [
            "Average: 107.66666666666667\n"
          ]
        }
      ]
    },
    {
      "cell_type": "markdown",
      "source": [
        "**Phương pháp Luminosity:**"
      ],
      "metadata": {
        "id": "XVpVtbp5xrNv"
      }
    },
    {
      "cell_type": "code",
      "source": [
        "import matplotlib.image as mpimg\n",
        "import numpy as np\n",
        "\n",
        "img = mpimg.imread('/content/dog.jpeg')\n",
        "\n",
        "gray_img_03 = 0.21 * img[:, :, 0] + 0.72 * img[:, :, 1] + 0.07 * img[:, :, 2]\n",
        "\n",
        "print(\"Luminosity:\", gray_img_03[0, 0])\n"
      ],
      "metadata": {
        "colab": {
          "base_uri": "https://localhost:8080/"
        },
        "id": "WNT-TV15wmMY",
        "outputId": "ef115422-7f62-4e65-dc24-afd1bea6b988"
      },
      "execution_count": null,
      "outputs": [
        {
          "output_type": "stream",
          "name": "stdout",
          "text": [
            "Luminosity: 126.22999999999999\n"
          ]
        }
      ]
    }
  ]
}