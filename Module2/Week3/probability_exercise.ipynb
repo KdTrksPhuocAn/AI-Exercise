{
  "nbformat": 4,
  "nbformat_minor": 0,
  "metadata": {
    "colab": {
      "provenance": []
    },
    "kernelspec": {
      "name": "python3",
      "display_name": "Python 3"
    },
    "language_info": {
      "name": "python"
    }
  },
  "cells": [
    {
      "cell_type": "markdown",
      "source": [
        "PLAY TENNIS CLASSIFIER IMPLEMENTATION"
      ],
      "metadata": {
        "id": "pUuLqNRrDQNE"
      }
    },
    {
      "cell_type": "code",
      "execution_count": 59,
      "metadata": {
        "colab": {
          "base_uri": "https://localhost:8080/"
        },
        "id": "X_NZNuxnwX6E",
        "outputId": "88b7b94d-393c-45ff-d32f-0232578b9637"
      },
      "outputs": [
        {
          "output_type": "stream",
          "name": "stdout",
          "text": [
            "[['Sunny' 'Hot' 'High' 'Weak' 'no']\n",
            " ['Sunny' 'Hot' 'High' 'Strong' 'no']\n",
            " ['Overcast' 'Hot' 'High' 'Weak' 'yes']\n",
            " ['Rain' 'Mild' 'High' 'Weak' 'yes']\n",
            " ['Rain' 'Cool' 'Normal' 'Weak' 'yes']\n",
            " ['Rain' 'Cool' 'Normal' 'Strong' 'no']\n",
            " ['Overcast' 'Cool' 'Normal' 'Strong' 'yes']\n",
            " ['Overcast' 'Mild' 'High' 'Weak' 'no']\n",
            " ['Sunny' 'Cool' 'Normal' 'Weak' 'yes']\n",
            " ['Rain' 'Mild' 'Normal' 'Weak' 'yes']]\n"
          ]
        }
      ],
      "source": [
        "#4.1\n",
        "import numpy as np\n",
        "\n",
        "def create_train_data():\n",
        "\n",
        "  data=[['Sunny','Hot', 'High', 'Weak', 'no'],\n",
        "        ['Sunny','Hot', 'High', 'Strong', 'no'],\n",
        "        ['Overcast','Hot', 'High', 'Weak', 'yes'],\n",
        "        ['Rain','Mild', 'High', 'Weak', 'yes'],\n",
        "        ['Rain','Cool', 'Normal', 'Weak', 'yes'],\n",
        "        ['Rain','Cool', 'Normal', 'Strong', 'no'],\n",
        "        ['Overcast','Cool', 'Normal', 'Strong', 'yes'],\n",
        "        ['Overcast','Mild', 'High', 'Weak', 'no'],\n",
        "        ['Sunny','Cool', 'Normal', 'Weak', 'yes'],\n",
        "        ['Rain','Mild', 'Normal', 'Weak', 'yes']\n",
        "        ]\n",
        "  return np.array(data)\n",
        "\n",
        "train_data = create_train_data()\n",
        "print(train_data)"
      ]
    },
    {
      "cell_type": "code",
      "source": [
        "#4.2\n",
        "def compute_prior_probablity(train_data):\n",
        "  y_unique = ['no', 'yes']\n",
        "  prior_probability = np.zeros(len(y_unique))\n",
        "  for i in range(0,len(y_unique)):\n",
        "    prior_probability[i]=len(np.where(train_data[:,4] == y_unique[i])[0])/len(train_data)\n",
        "  return prior_probability\n",
        "\n",
        "prior_probablity = compute_prior_probablity(train_data)\n",
        "print(\"P(“Play Tennis” = No)\", prior_probablity[0])\n",
        "print(\"P(“Play Tennis” = Yes)\", prior_probablity[1])"
      ],
      "metadata": {
        "colab": {
          "base_uri": "https://localhost:8080/"
        },
        "id": "QunZqZ4AxDlw",
        "outputId": "eca462ff-7ce0-4a36-861b-d95d8380c5f2"
      },
      "execution_count": 60,
      "outputs": [
        {
          "output_type": "stream",
          "name": "stdout",
          "text": [
            "P(“Play Tennis” = No) 0.4\n",
            "P(“Play Tennis” = Yes) 0.6\n"
          ]
        }
      ]
    },
    {
      "cell_type": "code",
      "source": [
        "def compute_conditional_probability(train_data):\n",
        "  y_unique = ['no', 'yes']\n",
        "  conditional_probability = []\n",
        "  list_x_name = []\n",
        "  for i in range(0,train_data.shape[1]-1):\n",
        "    x_unique = np.unique(train_data[:,i])\n",
        "    print(\"x_unique\", x_unique)\n",
        "\n",
        "    list_x_name.append(x_unique)\n",
        "\n",
        "    x_conditional_probability = np.zeros((len(y_unique),len(x_unique)))\n",
        "    for j in range(0,len(y_unique)):\n",
        "      for k in range(0,len(x_unique)):\n",
        "        x_conditional_probability[j,k]= len(np.where((train_data[:,i] == x_unique[k]) & (train_data[:,4] == y_unique[j]))[0])/len(np.where(train_data[:,4] == y_unique[j])[0])\n",
        "\n",
        "    conditional_probability.append(x_conditional_probability)\n",
        "  return conditional_probability, list_x_name"
      ],
      "metadata": {
        "id": "By87UHK0yDGY"
      },
      "execution_count": 61,
      "outputs": []
    },
    {
      "cell_type": "code",
      "source": [
        "train_data = create_train_data()\n",
        "_, list_x_name  = compute_conditional_probability(train_data)\n",
        "print(\"x1 = \",list_x_name[0])\n",
        "print(\"x2 = \",list_x_name[1])\n",
        "print(\"x3 = \",list_x_name[2])\n",
        "print(\"x4 = \",list_x_name[3])"
      ],
      "metadata": {
        "colab": {
          "base_uri": "https://localhost:8080/"
        },
        "id": "pzUFGHhHyF3P",
        "outputId": "b289a829-ec09-4f63-e64b-2ac92ff890a0"
      },
      "execution_count": 62,
      "outputs": [
        {
          "output_type": "stream",
          "name": "stdout",
          "text": [
            "x_unique ['Overcast' 'Rain' 'Sunny']\n",
            "x_unique ['Cool' 'Hot' 'Mild']\n",
            "x_unique ['High' 'Normal']\n",
            "x_unique ['Strong' 'Weak']\n",
            "x1 =  ['Overcast' 'Rain' 'Sunny']\n",
            "x2 =  ['Cool' 'Hot' 'Mild']\n",
            "x3 =  ['High' 'Normal']\n",
            "x4 =  ['Strong' 'Weak']\n"
          ]
        }
      ]
    },
    {
      "cell_type": "code",
      "source": [
        "def train_naive_bayes(train_data):\n",
        "    prior_probability = compute_prior_probablity(train_data)\n",
        "    conditional_probability, list_x_name  = compute_conditional_probability(train_data)\n",
        "\n",
        "    return prior_probability,conditional_probability, list_x_name\n",
        "\n",
        "data = create_train_data()\n",
        "prior_probability,conditional_probability, list_x_name = train_naive_bayes(data)\n",
        "def get_index_from_value(feature_name, list_features):\n",
        "  return np.where(list_features == feature_name)[0][0]"
      ],
      "metadata": {
        "colab": {
          "base_uri": "https://localhost:8080/"
        },
        "id": "o7Bx7Xu44RWu",
        "outputId": "ae74c2a4-0b02-4849-a6bc-f3831473cc02"
      },
      "execution_count": 63,
      "outputs": [
        {
          "output_type": "stream",
          "name": "stdout",
          "text": [
            "x_unique ['Overcast' 'Rain' 'Sunny']\n",
            "x_unique ['Cool' 'Hot' 'Mild']\n",
            "x_unique ['High' 'Normal']\n",
            "x_unique ['Strong' 'Weak']\n"
          ]
        }
      ]
    },
    {
      "cell_type": "code",
      "source": [
        "i1 = get_index_from_value(\"Overcast\", outlook)\n",
        "i2 = get_index_from_value(\"Rain\", outlook)\n",
        "i3 = get_index_from_value(\"Sunny\", outlook)\n",
        "\n",
        "print(i1, i2, i3)"
      ],
      "metadata": {
        "colab": {
          "base_uri": "https://localhost:8080/"
        },
        "id": "IAxiqCPd4fRP",
        "outputId": "befc4517-e652-4767-c2f2-481780ed0ea7"
      },
      "execution_count": 64,
      "outputs": [
        {
          "output_type": "stream",
          "name": "stdout",
          "text": [
            "0 1 2\n"
          ]
        }
      ]
    },
    {
      "cell_type": "code",
      "source": [
        "#4.17\n",
        "x1=get_index_from_value(\"Sunny\",list_x_name[0])\n",
        "print(\"P('Outlook'='Sunny'|Play Tennis'='Yes') = \", np.round(conditional_probability[0][1, x1],2))"
      ],
      "metadata": {
        "colab": {
          "base_uri": "https://localhost:8080/"
        },
        "id": "TkNyxU1k6Ew2",
        "outputId": "9d1968e8-e688-481f-f942-3f875438963c"
      },
      "execution_count": 65,
      "outputs": [
        {
          "output_type": "stream",
          "name": "stdout",
          "text": [
            "P('Outlook'='Sunny'|Play Tennis'='Yes') =  0.17\n"
          ]
        }
      ]
    },
    {
      "cell_type": "code",
      "source": [
        "#4.18\n",
        "x1=get_index_from_value(\"Sunny\",list_x_name[0])\n",
        "print(\"P('Outlook'='Sunny'|Play Tennis'='No') = \", np.round(conditional_probability[0][0, x1],2))"
      ],
      "metadata": {
        "colab": {
          "base_uri": "https://localhost:8080/"
        },
        "id": "13f-R4ES6uot",
        "outputId": "60dcfb2c-c8ef-4e21-fa82-a2a76c6269c4"
      },
      "execution_count": 66,
      "outputs": [
        {
          "output_type": "stream",
          "name": "stdout",
          "text": [
            "P('Outlook'='Sunny'|Play Tennis'='No') =  0.5\n"
          ]
        }
      ]
    },
    {
      "cell_type": "code",
      "source": [
        "def prediction_play_tennis(X, list_x_name, prior_probability, conditional_probability):\n",
        "\n",
        "    x1=get_index_from_value(X[0],list_x_name[0])\n",
        "    x2=get_index_from_value(X[1],list_x_name[1])\n",
        "    x3=get_index_from_value(X[2],list_x_name[2])\n",
        "    x4=get_index_from_value(X[3],list_x_name[3])\n",
        "\n",
        "    p0=prior_probability[0] \\\n",
        "    *conditional_probability[0][0,x1] \\\n",
        "    *conditional_probability[1][0,x2] \\\n",
        "    *conditional_probability[2][0,x3] \\\n",
        "    *conditional_probability[3][0,x4]\n",
        "\n",
        "    p1=prior_probability[1]\\\n",
        "    *conditional_probability[0][1,x1]\\\n",
        "    *conditional_probability[1][1,x2]\\\n",
        "    *conditional_probability[2][1,x3]\\\n",
        "    *conditional_probability[3][1,x4]\n",
        "\n",
        "    if p0>p1:\n",
        "        y_pred=0\n",
        "    else:\n",
        "        y_pred=1\n",
        "\n",
        "    return y_pred\n"
      ],
      "metadata": {
        "id": "EpdnCCPwA2-8"
      },
      "execution_count": 67,
      "outputs": []
    },
    {
      "cell_type": "code",
      "source": [
        "X = ['Sunny','Cool', 'High', 'Strong']\n",
        "pred =  prediction_play_tennis(X, list_x_name, prior_probability, conditional_probability)\n",
        "\n",
        "if(pred):\n",
        "  print(\"Ad should go!\")\n",
        "else:\n",
        "  print(\"Ad should not go!\")"
      ],
      "metadata": {
        "colab": {
          "base_uri": "https://localhost:8080/"
        },
        "id": "1kQZTjWDA7k0",
        "outputId": "b06b962f-45cb-4d69-986c-3f45a66d2e30"
      },
      "execution_count": 68,
      "outputs": [
        {
          "output_type": "stream",
          "name": "stdout",
          "text": [
            "Ad should not go!\n"
          ]
        }
      ]
    }
  ]
}