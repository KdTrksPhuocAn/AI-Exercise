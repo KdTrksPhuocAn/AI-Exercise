{
  "nbformat": 4,
  "nbformat_minor": 0,
  "metadata": {
    "colab": {
      "provenance": []
    },
    "kernelspec": {
      "name": "python3",
      "display_name": "Python 3"
    },
    "language_info": {
      "name": "python"
    }
  },
  "cells": [
    {
      "cell_type": "code",
      "execution_count": 1,
      "metadata": {
        "id": "xOBRt5a9F_fF"
      },
      "outputs": [],
      "source": [
        "#1\n",
        "import numpy as np"
      ]
    },
    {
      "cell_type": "code",
      "source": [
        "def df_w(w):\n",
        "    dW = np.array((0.2*w[0], 4*w[1]))\n",
        "    return dW\n",
        "def sgd(W, dW, lr):\n",
        "    W = W - lr*dW\n",
        "    return W\n",
        "def train_p1(optimizer, lr, epochs):\n",
        "    # initial point\n",
        "    W = np.array([-5, -2], dtype=np.float32)\n",
        "    results = [W]\n",
        "    for e in range(epochs):\n",
        "        dW = df_w(W)\n",
        "        W = optimizer(W, dW, lr)\n",
        "        results.append(W)\n",
        "    return results\n",
        "train_p1(sgd, lr=0.4, epochs=30)"
      ],
      "metadata": {
        "colab": {
          "base_uri": "https://localhost:8080/"
        },
        "id": "wmInvpXvGD5a",
        "outputId": "8c18274b-a886-442a-9ed8-c685ccaea0ec"
      },
      "execution_count": 2,
      "outputs": [
        {
          "output_type": "execute_result",
          "data": {
            "text/plain": [
              "[array([-5., -2.], dtype=float32),\n",
              " array([-4.6,  1.2]),\n",
              " array([-4.232, -0.72 ]),\n",
              " array([-3.89344,  0.432  ]),\n",
              " array([-3.5819648, -0.2592   ]),\n",
              " array([-3.29540762,  0.15552   ]),\n",
              " array([-3.03177501, -0.093312  ]),\n",
              " array([-2.78923301,  0.0559872 ]),\n",
              " array([-2.56609437, -0.03359232]),\n",
              " array([-2.36080682,  0.02015539]),\n",
              " array([-2.17194227, -0.01209324]),\n",
              " array([-1.99818689,  0.00725594]),\n",
              " array([-1.83833194, -0.00435356]),\n",
              " array([-1.69126538,  0.00261214]),\n",
              " array([-1.55596415, -0.00156728]),\n",
              " array([-1.43148702e+00,  9.40369969e-04]),\n",
              " array([-1.31696806e+00, -5.64221981e-04]),\n",
              " array([-1.21161061e+00,  3.38533189e-04]),\n",
              " array([-1.11468176e+00, -2.03119913e-04]),\n",
              " array([-1.02550722e+00,  1.21871948e-04]),\n",
              " array([-9.43466646e-01, -7.31231688e-05]),\n",
              " array([-8.67989314e-01,  4.38739013e-05]),\n",
              " array([-7.98550169e-01, -2.63243408e-05]),\n",
              " array([-7.34666155e-01,  1.57946045e-05]),\n",
              " array([-6.75892863e-01, -9.47676268e-06]),\n",
              " array([-6.21821434e-01,  5.68605761e-06]),\n",
              " array([-5.72075719e-01, -3.41163456e-06]),\n",
              " array([-5.26309662e-01,  2.04698074e-06]),\n",
              " array([-4.84204889e-01, -1.22818844e-06]),\n",
              " array([-4.45468498e-01,  7.36913066e-07]),\n",
              " array([-4.09831018e-01, -4.42147839e-07])]"
            ]
          },
          "metadata": {},
          "execution_count": 2
        }
      ]
    }
  ]
}